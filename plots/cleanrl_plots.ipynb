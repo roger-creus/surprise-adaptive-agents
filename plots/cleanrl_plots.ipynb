{
 "cells": [
  {
   "cell_type": "code",
   "execution_count": null,
   "metadata": {},
   "outputs": [],
   "source": [
    "import matplotlib.pyplot as plt\n",
    "import numpy as np\n",
    "import os\n",
    "import pandas as pd"
   ]
  },
  {
   "cell_type": "code",
   "execution_count": null,
   "metadata": {},
   "outputs": [],
   "source": [
    "run_path = '../runs/'\n",
    "runs = os.listdir(run_path)\n",
    "runs = sorted(runs)\n",
    "\n",
    "results = {}\n",
    "for run in runs:\n",
    "    results[run] = pd.read_csv(run_path + run + '/log.csv')"
   ]
  },
  {
   "cell_type": "code",
   "execution_count": null,
   "metadata": {},
   "outputs": [],
   "source": [
    "algo_names = [\"dqn\", \"ppo\", \"ppolstm\"]\n",
    "env_names = [\"FourRooms\", \"SurpriseAdaptRooms-v0_NoisyRoom_1\", \"SurpriseAdaptRooms-v0_NoisyRoom_2\"]\n",
    "metrics = [\"ep_surprise\", \"ep_entropy\", \"ep_return\"]\n",
    "\n",
    "\n",
    "for metric in metrics:\n",
    "    fig, axs = plt.subplots(3, 3, figsize=(15, 15))\n",
    "    for env_name in env_names:\n",
    "        for algo_name in algo_names:\n",
    "            title = env_name + \" \" + algo_name\n",
    "            x_idx, y_idx = env_names.index(env_name), algo_names.index(algo_name) \n",
    "            axs[x_idx, y_idx].set_title(title)\n",
    "            for run in runs:\n",
    "                if algo_name == \"ppo\":\n",
    "                    ban_lstm = True\n",
    "                else:\n",
    "                    ban_lstm = False\n",
    "                \n",
    "                if env_name in run and algo_name in run and (not ban_lstm or \"lstm\" not in run):\n",
    "                    run_label = run\n",
    "                    run_label = run_label.replace(env_name, \"\")\n",
    "                    run_label = run_label.replace(algo_name, \"\")\n",
    "                    run_label = run_label.replace(\"noExtrinsic\", \"\")\n",
    "                    run_label = run_label.replace(\"s1\", \"\")\n",
    "                    run_label = run_label.replace(\"_\", \"\")\n",
    "                    run_label = run_label.replace(\"none\", \"vanilla\")\n",
    "\n",
    "                    y = results[run][metric]                    \n",
    "                    if metric != \"ep_return\":\n",
    "                        y = np.convolve(y, np.ones(100), 'valid') / 100\n",
    "                    \n",
    "                    x = np.linspace(0, 20000000, len(y))\n",
    "                    axs[x_idx, y_idx].plot(x, y, label=run_label)\n",
    "\n",
    "    # plot only x axis labels on bottom row\n",
    "    for ax in axs.flat:\n",
    "        ax.set(xlabel='Environment Steps', ylabel=metric.split(\"_\")[1].capitalize())\n",
    "        ax.label_outer()\n",
    "\n",
    "    # plot only y axis labels on left column\n",
    "    for ax in axs.flat:\n",
    "        ax.label_outer()\n",
    "\n",
    "    # set title for entire figure\n",
    "    fig.suptitle(f'Episode {metric.split(\"_\")[1].capitalize()}', fontsize=16, y=1)\n",
    "\n",
    "    handles, labels = axs[0, 0].get_legend_handles_labels() \n",
    "    fig.legend(handles, labels, loc='lower center', ncol=5, bbox_to_anchor=(0.5, -0.05), fancybox=True, fontsize=12)\n",
    "    plt.tight_layout()\n",
    "\n",
    "    plt.show()"
   ]
  }
 ],
 "metadata": {
  "kernelspec": {
   "display_name": "Python 3",
   "language": "python",
   "name": "python3"
  },
  "language_info": {
   "codemirror_mode": {
    "name": "ipython",
    "version": 3
   },
   "file_extension": ".py",
   "mimetype": "text/x-python",
   "name": "python",
   "nbconvert_exporter": "python",
   "pygments_lexer": "ipython3",
   "version": "3.8.17"
  },
  "orig_nbformat": 4
 },
 "nbformat": 4,
 "nbformat_minor": 2
}
