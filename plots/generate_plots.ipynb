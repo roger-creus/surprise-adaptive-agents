{
 "cells": [
  {
   "cell_type": "code",
   "execution_count": null,
   "id": "98553d30",
   "metadata": {},
   "outputs": [],
   "source": [
    "import json\n",
    "import matplotlib.pyplot as plt\n",
    "import numpy as np\n",
    "import os\n",
    "from IPython import embed\n",
    "SAVE_DIR = \"/home/ahugessen/Documents/Courses/IFT6163/Final Project/images/\"\n",
    "# read json file\n",
    "files = ['smirl_carnival_deaths', \n",
    "         'smirl_carnival_task_reward']\n",
    "data = {}\n",
    "for file in files:\n",
    "    with open(f'/home/ahugessen/Documents/Courses/IFT6163/Final Project/data/{file}.json') as f:\n",
    "        data[file] = json.load(f)[0]\n",
    "\n",
    "\n",
    "import pandas as pd"
   ]
  },
  {
   "cell_type": "code",
   "execution_count": null,
   "id": "a0c4c1f8",
   "metadata": {},
   "outputs": [],
   "source": [
    "import pandas as pd"
   ]
  },
  {
   "cell_type": "code",
   "execution_count": null,
   "id": "0413525b",
   "metadata": {},
   "outputs": [],
   "source": [
    "df = pd.DataFrame()\n",
    "for key, val in data.items():\n",
    "    min_len = min(len(x) for x in val.values() if isinstance(x, list))\n",
    "    val = {k: v[:min_len] if isinstance(v, list) else v for k, v in val.items()}\n",
    "\n",
    "    temp_df = pd.DataFrame.from_records(val)\n",
    "    temp_df['alg'] = key.split('_')[0]\n",
    "    df = pd.concat([df, temp_df])"
   ]
  },
  {
   "cell_type": "code",
   "execution_count": null,
   "id": "ed355589",
   "metadata": {},
   "outputs": [],
   "source": [
    "df['type'] = df.name.str.split('/').str[-1].str.split(' ').str[0]"
   ]
  },
  {
   "cell_type": "code",
   "execution_count": null,
   "id": "0b38255b",
   "metadata": {},
   "outputs": [],
   "source": [
    "with open(f'/home/ahugessen/Documents/Courses/IFT6163/Final Project/data/carnival_task_reward_chart_data.json') as f:\n",
    "    data = json.load(f)"
   ]
  },
  {
   "cell_type": "code",
   "execution_count": null,
   "id": "d182d70d",
   "metadata": {},
   "outputs": [],
   "source": [
    "for d in data:\n",
    "    min_len = min(len(d['x']), len(d['y']))\n",
    "    temp_df = pd.DataFrame({'x':d['x'][:min_len],'y':d['y'][:min_len]})\n",
    "    temp_df['type'] = \"task_reward\"\n",
    "    temp_df['alg'] = d['name'].split('_')[-1]\n",
    "    df = pd.concat([df, temp_df])"
   ]
  },
  {
   "cell_type": "code",
   "execution_count": null,
   "id": "694b8ecd",
   "metadata": {},
   "outputs": [],
   "source": [
    "with open(f'/home/ahugessen/Documents/Courses/IFT6163/Final Project/data/carnival_death_max_vs_epoch_chart_data.json') as f:\n",
    "    data = json.load(f)"
   ]
  },
  {
   "cell_type": "code",
   "execution_count": null,
   "id": "efda146c",
   "metadata": {},
   "outputs": [],
   "source": [
    "for d in data:\n",
    "    min_len = min(len(d['x']), len(d['y']))\n",
    "    temp_df = pd.DataFrame({'x':d['x'][:min_len],'y':d['y'][:min_len]})\n",
    "    temp_df['type'] = \"death\"\n",
    "    temp_df['alg'] = d['name'].split('_')[-1]\n",
    "    df = pd.concat([df, temp_df])"
   ]
  },
  {
   "cell_type": "code",
   "execution_count": null,
   "id": "31e08346",
   "metadata": {},
   "outputs": [],
   "source": [
    "df[df.alg=='smirl'].x.max()\n"
   ]
  },
  {
   "cell_type": "code",
   "execution_count": null,
   "id": "bd372ae8",
   "metadata": {},
   "outputs": [],
   "source": [
    "df = df[df.x < 3000]"
   ]
  },
  {
   "cell_type": "code",
   "execution_count": null,
   "id": "79426ea4",
   "metadata": {},
   "outputs": [],
   "source": [
    "df.alg.unique()"
   ]
  },
  {
   "cell_type": "code",
   "execution_count": null,
   "id": "e3fd5eae",
   "metadata": {},
   "outputs": [],
   "source": [
    "plot_names = {'smirl': 'S-Min',\n",
    "             'SA': 'S-Adapt',\n",
    "             'FixedAlphasTraining': 'S-Adapt (Fixed Training)',\n",
    "             'RandomAlphas': 'Random Switching',\n",
    "             'FixedLengthAlphas': 'Fixed Length Switching',\n",
    "             'RandomAgent': 'Random Agent'}"
   ]
  },
  {
   "cell_type": "code",
   "execution_count": null,
   "id": "028ccd4c",
   "metadata": {},
   "outputs": [],
   "source": [
    "df.alg = df.alg.replace(plot_names)"
   ]
  },
  {
   "cell_type": "code",
   "execution_count": null,
   "id": "19913bc9",
   "metadata": {},
   "outputs": [],
   "source": [
    "import seaborn as sns"
   ]
  },
  {
   "cell_type": "code",
   "execution_count": null,
   "id": "d2f0565d",
   "metadata": {},
   "outputs": [],
   "source": [
    "include_list = ['S-Min', 'S-Adapt (Fixed Training)', 'S-Adapt', 'Random Agent', 'Random Switching', 'Fixed Length Switching']"
   ]
  },
  {
   "cell_type": "code",
   "execution_count": null,
   "id": "8301ce69",
   "metadata": {},
   "outputs": [],
   "source": [
    "fig, ax = plt.subplots(1,1,figsize=(6,5))\n",
    "ax = sns.scatterplot(df[(df.type=='death') & (df.alg.isin(include_list)) & (df.y==1.0)], \n",
    "                hue='alg', x='x', y='alg', ax=ax)\n",
    "ax.set(xlabel='Epoch', ylabel='')\n",
    "ax.legend(title=\"\")\n",
    "plt.legend([],[], frameon=False)\n",
    "# ax.set_yticklabels([textwrap.fill(e, width) for e in data[y].head()])\n",
    "\n",
    "plt.tight_layout()\n",
    "plt.savefig(f\"{SAVE_DIR}/carnival_deaths.png\")"
   ]
  },
  {
   "cell_type": "code",
   "execution_count": null,
   "id": "553d80d6",
   "metadata": {},
   "outputs": [],
   "source": [
    "ax = sns.lineplot(df[(df.type=='task_reward') & df.alg.isin(include_list) & (df.x < 2000)], \n",
    "                  hue='alg', x='x', y='y', errorbar=None)\n",
    "ax.set(xlabel='Epoch', ylabel='Task Reward')\n",
    "plt.savefig(f\"{SAVE_DIR}/carnival_reward.png\")"
   ]
  },
  {
   "cell_type": "code",
   "execution_count": null,
   "id": "0f512b8e",
   "metadata": {},
   "outputs": [],
   "source": []
  },
  {
   "cell_type": "markdown",
   "id": "06284f1f",
   "metadata": {},
   "source": [
    "### Tetris"
   ]
  },
  {
   "cell_type": "code",
   "execution_count": null,
   "id": "dd571372",
   "metadata": {},
   "outputs": [],
   "source": []
  },
  {
   "cell_type": "code",
   "execution_count": null,
   "id": "38e80c8e",
   "metadata": {},
   "outputs": [],
   "source": [
    "with open(f'/home/ahugessen/Documents/Courses/IFT6163/Final Project/data/tetris_task_reward_chart_data.json') as f:\n",
    "    data = json.load(f)"
   ]
  },
  {
   "cell_type": "code",
   "execution_count": null,
   "id": "52e96d00",
   "metadata": {},
   "outputs": [],
   "source": [
    "df = pd.DataFrame()\n",
    "for d in data:\n",
    "    min_len = min(len(d['x']), len(d['y']))\n",
    "    temp_df = pd.DataFrame({'x':d['x'][:min_len],'y':d['y'][:min_len]})\n",
    "    temp_df['type'] = \"task_reward\"\n",
    "    temp_df['alg'] = d['name'].split('Tetris_')[-1]\n",
    "    df = pd.concat([df, temp_df])"
   ]
  },
  {
   "cell_type": "code",
   "execution_count": null,
   "id": "bfef32ba",
   "metadata": {},
   "outputs": [],
   "source": [
    "df.alg.unique()\n"
   ]
  },
  {
   "cell_type": "code",
   "execution_count": null,
   "id": "86d83acf",
   "metadata": {},
   "outputs": [],
   "source": [
    "df = df[df.x < 3000]"
   ]
  },
  {
   "cell_type": "code",
   "execution_count": null,
   "id": "431c0c6a",
   "metadata": {},
   "outputs": [],
   "source": [
    "plot_names = {'SMiRL': 'S-Min',\n",
    "             'SA_500len': 'S-Adapt',\n",
    "             'test': 'S-Adapt (Fixed Training)',\n",
    "             'SA_RandomAlphas_500len': 'Random Switching',\n",
    "             'SA_FixedLengthAlphas_500len': 'Fixed Length Switching',\n",
    "             'RandomAgent': 'Random Agent'}"
   ]
  },
  {
   "cell_type": "code",
   "execution_count": null,
   "id": "9d2b9c4a",
   "metadata": {},
   "outputs": [],
   "source": [
    "df.alg = df.alg.replace(plot_names)"
   ]
  },
  {
   "cell_type": "code",
   "execution_count": null,
   "id": "1fe49b69",
   "metadata": {},
   "outputs": [],
   "source": [
    "import seaborn as sns"
   ]
  },
  {
   "cell_type": "code",
   "execution_count": null,
   "id": "2074c3fa",
   "metadata": {},
   "outputs": [],
   "source": [
    "ax = sns.lineplot(df[(df.type=='task_reward')&df.alg.isin(include_list)], \n",
    "                  hue='alg', x='x', y='y', errorbar=None)\n",
    "ax.set(xlabel='Epoch', ylabel='Task Reward')\n",
    "plt.savefig(f\"{SAVE_DIR}/tetris_reward.png\")"
   ]
  },
  {
   "cell_type": "markdown",
   "id": "8e258e42",
   "metadata": {},
   "source": [
    "#### Surprise"
   ]
  },
  {
   "cell_type": "code",
   "execution_count": null,
   "id": "1b123b76",
   "metadata": {},
   "outputs": [],
   "source": []
  },
  {
   "cell_type": "code",
   "execution_count": null,
   "id": "a5a0d65e",
   "metadata": {},
   "outputs": [],
   "source": [
    "with open(f'/home/ahugessen/Documents/Courses/IFT6163/Final Project/data/tetris_eval_surprise_chart_data.json') as f:\n",
    "    data = json.load(f)"
   ]
  },
  {
   "cell_type": "code",
   "execution_count": null,
   "id": "d8953fba",
   "metadata": {},
   "outputs": [],
   "source": [
    "df = pd.DataFrame()\n",
    "for d in data:\n",
    "    min_len = min(len(d['x']), len(d['y']))\n",
    "    temp_df = pd.DataFrame({'x':d['x'][:min_len],'y':d['y'][:min_len]})\n",
    "    temp_df['type'] = \"task_reward\"\n",
    "    temp_df['alg'] = d['name'].split('Tetris_')[-1]\n",
    "    df = pd.concat([df, temp_df])"
   ]
  },
  {
   "cell_type": "code",
   "execution_count": null,
   "id": "1d527a1e",
   "metadata": {},
   "outputs": [],
   "source": [
    "df.alg.unique()\n"
   ]
  },
  {
   "cell_type": "code",
   "execution_count": null,
   "id": "4eb43bed",
   "metadata": {},
   "outputs": [],
   "source": [
    "df = df[df.x < 3000]"
   ]
  },
  {
   "cell_type": "code",
   "execution_count": null,
   "id": "32cbed39",
   "metadata": {},
   "outputs": [],
   "source": [
    "plot_names = {'SMiRL': 'S-Min',\n",
    "             'SA_500len': 'S-Adapt',\n",
    "             'test': 'S-Adapt (Fixed Training)',\n",
    "             'SA_RandomAlphas_500len': 'Random Switching',\n",
    "             'SA_FixedLengthAlphas_500len': 'Fixed Length Switching',\n",
    "             'RandomAgent': 'Random Agent'}"
   ]
  },
  {
   "cell_type": "code",
   "execution_count": null,
   "id": "de6f05e6",
   "metadata": {},
   "outputs": [],
   "source": [
    "df.alg = df.alg.replace(plot_names)"
   ]
  },
  {
   "cell_type": "code",
   "execution_count": null,
   "id": "039778b5",
   "metadata": {},
   "outputs": [],
   "source": [
    "import seaborn as sns"
   ]
  },
  {
   "cell_type": "code",
   "execution_count": null,
   "id": "0feb02a6",
   "metadata": {
    "scrolled": true
   },
   "outputs": [],
   "source": [
    "ax = sns.lineplot(df[(df.type=='task_reward') & df.alg.isin(include_list)], \n",
    "                  hue='alg', x='x', y='y', errorbar=None)\n",
    "ax.set(xlabel='Epoch', ylabel='Surprise')\n",
    "plt.savefig(f\"{SAVE_DIR}/tetris_surprise.png\")"
   ]
  },
  {
   "cell_type": "code",
   "execution_count": null,
   "id": "ce05d6db",
   "metadata": {},
   "outputs": [],
   "source": []
  },
  {
   "cell_type": "code",
   "execution_count": null,
   "id": "e6fa497d",
   "metadata": {},
   "outputs": [],
   "source": []
  },
  {
   "cell_type": "code",
   "execution_count": null,
   "id": "936439ca",
   "metadata": {},
   "outputs": [],
   "source": []
  }
 ],
 "metadata": {
  "kernelspec": {
   "display_name": "Python 3 (ipykernel)",
   "language": "python",
   "name": "python3"
  },
  "language_info": {
   "codemirror_mode": {
    "name": "ipython",
    "version": 3
   },
   "file_extension": ".py",
   "mimetype": "text/x-python",
   "name": "python",
   "nbconvert_exporter": "python",
   "pygments_lexer": "ipython3",
   "version": "3.9.13"
  }
 },
 "nbformat": 4,
 "nbformat_minor": 5
}
