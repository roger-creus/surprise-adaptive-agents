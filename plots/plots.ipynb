{
 "cells": [
  {
   "cell_type": "code",
   "execution_count": null,
   "id": "ed92fc58",
   "metadata": {},
   "outputs": [],
   "source": [
    "from comet_ml import API, APIExperiment\n",
    "from comet_ml.api import Metric, Metadata, Parameter"
   ]
  },
  {
   "cell_type": "code",
   "execution_count": null,
   "id": "287ea1db",
   "metadata": {},
   "outputs": [],
   "source": [
    "API_KEY = \"fV5dK3zd6LZtaRxbPqx5dc0n0\"\n",
    "WORKSPACE = \"real\"\n",
    "PROJECT_NAME = \"surprise-adaptive-agents\"\n",
    "SAVE_DIR = \"/home/ahugessen/Documents/Papers/Surprise Adapt\""
   ]
  },
  {
   "cell_type": "code",
   "execution_count": null,
   "id": "604635db",
   "metadata": {},
   "outputs": [],
   "source": [
    "api = API(api_key=API_KEY)"
   ]
  },
  {
   "cell_type": "code",
   "execution_count": null,
   "id": "38d893ad",
   "metadata": {},
   "outputs": [],
   "source": [
    "api.get(WORKSPACE)"
   ]
  },
  {
   "cell_type": "code",
   "execution_count": null,
   "id": "f67ef69f",
   "metadata": {},
   "outputs": [],
   "source": [
    "! pip install seaborn"
   ]
  },
  {
   "cell_type": "code",
   "execution_count": null,
   "id": "f3551401",
   "metadata": {},
   "outputs": [],
   "source": [
    "import pandas as pd\n",
    "import seaborn as sns\n",
    "import matplotlib.pyplot as plt\n"
   ]
  },
  {
   "cell_type": "markdown",
   "id": "302536aa",
   "metadata": {},
   "source": [
    "### Tetris"
   ]
  },
  {
   "cell_type": "code",
   "execution_count": null,
   "id": "e8359562",
   "metadata": {},
   "outputs": [],
   "source": [
    "query = (Parameter(\"env\")=='Tetris') & (Parameter(\"doodad_run_mode\") ==\"local\") & (Metadata(\"start_server_timestamp\") > datetime(2023, 5, 29, 0))"
   ]
  },
  {
   "cell_type": "code",
   "execution_count": null,
   "id": "10dc5375",
   "metadata": {},
   "outputs": [],
   "source": [
    "experiments = api.get_experiments(workspace=\"real\", project_name=\"surprise-adaptive-agents\", pattern=\"Tetris_RandomAgent_final\")"
   ]
  },
  {
   "cell_type": "code",
   "execution_count": null,
   "id": "e22d8688",
   "metadata": {},
   "outputs": [],
   "source": [
    "experiments = experiments + api.query(workspace=WORKSPACE, project_name=PROJECT_NAME, query=query)"
   ]
  },
  {
   "cell_type": "code",
   "execution_count": null,
   "id": "574d302a",
   "metadata": {},
   "outputs": [],
   "source": [
    "query = (Parameter(\"env\")=='Tetris') & (Parameter(\"doodad_run_mode\") ==\"local\") & (Parameter(\"exp_name\") ==\"SMin_final\")"
   ]
  },
  {
   "cell_type": "code",
   "execution_count": null,
   "id": "5dd9c38f",
   "metadata": {},
   "outputs": [],
   "source": [
    "experiments=experiments + api.query(workspace=WORKSPACE, project_name=PROJECT_NAME, query=query)"
   ]
  },
  {
   "cell_type": "code",
   "execution_count": null,
   "id": "d8372139",
   "metadata": {},
   "outputs": [],
   "source": [
    "query = (Parameter(\"env\")=='Tetris') & (Parameter(\"doodad_run_mode\") ==\"local\") & (Parameter(\"exp_name\") ==\"SMax_final\")"
   ]
  },
  {
   "cell_type": "code",
   "execution_count": null,
   "id": "3c4558cc",
   "metadata": {},
   "outputs": [],
   "source": [
    "experiments=experiments + api.query(workspace=WORKSPACE, project_name=PROJECT_NAME, query=query)"
   ]
  },
  {
   "cell_type": "code",
   "execution_count": null,
   "id": "dffe99c4",
   "metadata": {},
   "outputs": [],
   "source": [
    "for experiment in experiments:\n",
    "    print(experiment.get_metadata()[\"experimentName\"])"
   ]
  },
  {
   "cell_type": "code",
   "execution_count": null,
   "id": "f8425b75",
   "metadata": {},
   "outputs": [],
   "source": [
    "keys = [experiment.get_metadata()['experimentKey'] for experiment in experiments]\n",
    "data = api.get_metrics_for_chart(keys, \n",
    "                                 metrics=[\"evaluation/env_infos/surprise Mean\", \n",
    "                                          \"evaluation/env_infos/task_reward Mean\",\n",
    "                                         \"Epoch\"],\n",
    "                                parameters=['random_seed'])"
   ]
  },
  {
   "cell_type": "code",
   "execution_count": null,
   "id": "f1437a1b",
   "metadata": {},
   "outputs": [],
   "source": [
    "metrics_df = pd.DataFrame()\n",
    "for key, metrics in data.items():\n",
    "    experiment = api.get_experiment_by_key(experiment_key=key)\n",
    "    experiment_name = experiment.get_metadata()[\"experimentName\"]\n",
    "    seed = metrics['params']['random_seed']\n",
    "    for metric in metrics['metrics']:\n",
    "        temp_df = pd.DataFrame(metric)\n",
    "        if temp_df['metricName'][0] != 'Epoch':\n",
    "            temp_df['values'] = temp_df['values'].rolling(10, center=True).mean()\n",
    "        temp_df['seed'] = seed\n",
    "        temp_df['experiment'] = experiment_name\n",
    "        metrics_df = pd.concat([metrics_df, temp_df])"
   ]
  },
  {
   "cell_type": "code",
   "execution_count": null,
   "id": "ffafc19b",
   "metadata": {},
   "outputs": [],
   "source": [
    "metrics_df = metrics_df[['metricName', 'steps', 'seed', 'experiment', 'values']]"
   ]
  },
  {
   "cell_type": "code",
   "execution_count": null,
   "id": "860435c9",
   "metadata": {},
   "outputs": [],
   "source": [
    "metrics_df.head(10)"
   ]
  },
  {
   "cell_type": "code",
   "execution_count": null,
   "id": "5543b0af",
   "metadata": {},
   "outputs": [],
   "source": [
    "metrics_df = metrics_df[metrics_df.metricName != 'Epoch'].merge(metrics_df[metrics_df.metricName=='Epoch'].drop('metricName', axis=1),\n",
    "                                                   on=['steps', 'steps', 'seed', 'experiment'],\n",
    "                                                  suffixes=['', '_epoch'])\n",
    "metrics_df['env_steps'] = metrics_df.values_epoch*1000"
   ]
  },
  {
   "cell_type": "code",
   "execution_count": null,
   "id": "e1939834",
   "metadata": {},
   "outputs": [],
   "source": [
    "metrics_df.head(10)"
   ]
  },
  {
   "cell_type": "code",
   "execution_count": null,
   "id": "8952c0be",
   "metadata": {},
   "outputs": [],
   "source": [
    "metrics_df.experiment = metrics_df.experiment.replace({'Tetris_SAv2deltabin_nomon_final': \"S-Adapt-IM (Ours)\",\n",
    "                                                      'Tetris_SAv2deltabin_final': 'S-Adapt (Ours)',\n",
    "                                                      'Tetris_SMax_final': 'S-Max',\n",
    "                                                      'Tetris_SMin_final': 'S-Min',\n",
    "                                                      'Tetris_RandomAgent_final': 'Random'})"
   ]
  },
  {
   "cell_type": "code",
   "execution_count": null,
   "id": "786ffa6c",
   "metadata": {},
   "outputs": [],
   "source": [
    "metrics_df.head()"
   ]
  },
  {
   "cell_type": "code",
   "execution_count": null,
   "id": "c2bdc816",
   "metadata": {},
   "outputs": [],
   "source": [
    "metrics_df.groupby(['metricName', 'seed', 'experiment']).values.count()"
   ]
  },
  {
   "cell_type": "code",
   "execution_count": null,
   "id": "2e953ad8",
   "metadata": {},
   "outputs": [],
   "source": [
    "metrics_df = metrics_df.sort_values(by=\"experiment\")"
   ]
  },
  {
   "cell_type": "code",
   "execution_count": null,
   "id": "2c243e53",
   "metadata": {},
   "outputs": [],
   "source": [
    "metrics_df = metrics_df[metrics_df['env_steps'] < 6500000]"
   ]
  },
  {
   "cell_type": "code",
   "execution_count": null,
   "id": "9c7e3b0e",
   "metadata": {},
   "outputs": [],
   "source": [
    "sns.set(font_scale=1)\n",
    "ax = sns.lineplot(metrics_df[(metrics_df.metricName=='evaluation/env_infos/surprise Mean')], \n",
    "             y=\"values\", x=\"env_steps\", hue=\"experiment\", palette=\"magma\", lw=2)\n",
    "leg = ax.legend()\n",
    "for line in leg.get_lines():\n",
    "    line.set_linewidth(4.0)\n",
    "sns.move_legend(ax, \"lower center\", bbox_to_anchor=(.5, 1), ncol=3, title=None, frameon=False)\n",
    "ax.set(xlabel=\"Environment Steps\", ylabel='Surprise')\n",
    "plt.savefig(f\"{SAVE_DIR}/tetris_surprise.png\")"
   ]
  },
  {
   "cell_type": "code",
   "execution_count": null,
   "id": "73e66e4b",
   "metadata": {},
   "outputs": [],
   "source": [
    "sns.set(font_scale=1)\n",
    "ax = sns.lineplot(metrics_df[(metrics_df.metricName=='evaluation/env_infos/task_reward Mean')], \n",
    "             y=\"values\", x=\"env_steps\", hue=\"experiment\", palette=\"magma\", lw=2)\n",
    "leg = ax.legend()\n",
    "for line in leg.get_lines():\n",
    "    line.set_linewidth(4.0)\n",
    "sns.move_legend(ax, \"lower center\", bbox_to_anchor=(.5, 1), ncol=3, title=None, frameon=False)\n",
    "ax.set(xlabel=\"Environment Steps\", ylabel='Task Reward')\n",
    "plt.savefig(f\"{SAVE_DIR}/tetris_reward.png\")"
   ]
  },
  {
   "cell_type": "markdown",
   "id": "ef3ac33e",
   "metadata": {},
   "source": [
    "### Maze"
   ]
  },
  {
   "cell_type": "code",
   "execution_count": null,
   "id": "ba13cc0b",
   "metadata": {},
   "outputs": [],
   "source": [
    "from datetime import datetime"
   ]
  },
  {
   "cell_type": "code",
   "execution_count": null,
   "id": "7305f2a1",
   "metadata": {},
   "outputs": [],
   "source": [
    "experiments = api.get_experiments(workspace=\"real\", project_name=\"surprise-adaptive-agents\", pattern=\"MazeEnvFullyObserved_SMAX_final\")"
   ]
  },
  {
   "cell_type": "code",
   "execution_count": null,
   "id": "cc9b9da5",
   "metadata": {},
   "outputs": [],
   "source": [
    "query = (Parameter(\"env\") == \"MazeEnvFullyObserved\") & (Metadata(\"start_server_timestamp\") > datetime(2023, 5, 28, 0))"
   ]
  },
  {
   "cell_type": "code",
   "execution_count": null,
   "id": "0129d08d",
   "metadata": {},
   "outputs": [],
   "source": [
    "experiments = experiments + api.query(workspace=WORKSPACE, project_name=PROJECT_NAME, query=query)"
   ]
  },
  {
   "cell_type": "code",
   "execution_count": null,
   "id": "113b69f2",
   "metadata": {},
   "outputs": [],
   "source": [
    "experiments = api.query(workspace=WORKSPACE, project_name=PROJECT_NAME, query=query)"
   ]
  },
  {
   "cell_type": "code",
   "execution_count": null,
   "id": "fb00c323",
   "metadata": {},
   "outputs": [],
   "source": [
    "for experiment in experiments:\n",
    "    print(experiment.get_metadata()[\"experimentName\"])"
   ]
  },
  {
   "cell_type": "code",
   "execution_count": null,
   "id": "bb06c454",
   "metadata": {},
   "outputs": [],
   "source": [
    "import pandas as pd"
   ]
  },
  {
   "cell_type": "code",
   "execution_count": null,
   "id": "5993bcc4",
   "metadata": {},
   "outputs": [],
   "source": [
    "keys = [experiment.get_metadata()['experimentKey'] for experiment in experiments]\n",
    "data = api.get_metrics_for_chart(keys, \n",
    "                                 metrics=[\"evaluation/env_infos/surprise Mean\", \n",
    "                                          \"evaluation/env_infos/task_reward Mean\",\n",
    "                                         \"Epoch\"],\n",
    "                                parameters=['random_seed'])"
   ]
  },
  {
   "cell_type": "code",
   "execution_count": null,
   "id": "d3412e8f",
   "metadata": {},
   "outputs": [],
   "source": [
    "metrics_df = pd.DataFrame()\n",
    "for key, metrics in data.items():\n",
    "    experiment = api.get_experiment_by_key(experiment_key=key)\n",
    "    experiment_name = experiment.get_metadata()[\"experimentName\"]\n",
    "    seed = metrics['params']['random_seed']\n",
    "    for metric in metrics['metrics']:\n",
    "        temp_df = pd.DataFrame(metric)\n",
    "        if temp_df['metricName'][0] != 'Epoch':\n",
    "            temp_df['values'] = temp_df['values'].rolling(10, center=True).mean()\n",
    "        temp_df['seed'] = seed\n",
    "        temp_df['experiment'] = experiment_name\n",
    "        metrics_df = pd.concat([metrics_df, temp_df])"
   ]
  },
  {
   "cell_type": "code",
   "execution_count": null,
   "id": "c4b12e9a",
   "metadata": {},
   "outputs": [],
   "source": [
    "metrics_df = metrics_df[['metricName', 'steps', 'seed', 'experiment', 'values']]"
   ]
  },
  {
   "cell_type": "code",
   "execution_count": null,
   "id": "9f66a36f",
   "metadata": {},
   "outputs": [],
   "source": [
    "metrics_df = metrics_df[metrics_df.metricName != 'Epoch'].merge(metrics_df[metrics_df.metricName=='Epoch'].drop('metricName', axis=1),\n",
    "                                                   on=['steps', 'steps', 'seed', 'experiment'],\n",
    "                                                  suffixes=['', '_epoch'])\n",
    "metrics_df['env_steps'] = metrics_df.values_epoch*1000"
   ]
  },
  {
   "cell_type": "code",
   "execution_count": null,
   "id": "b03d5bfa",
   "metadata": {
    "scrolled": true
   },
   "outputs": [],
   "source": [
    "metrics_df.groupby(['metricName', 'seed', 'experiment']).values.count()"
   ]
  },
  {
   "cell_type": "code",
   "execution_count": null,
   "id": "e93375ff",
   "metadata": {},
   "outputs": [],
   "source": [
    "metrics_df.head()"
   ]
  },
  {
   "cell_type": "code",
   "execution_count": null,
   "id": "c0cc6942",
   "metadata": {},
   "outputs": [],
   "source": [
    "metrics_df.experiment = metrics_df.experiment.replace({'MazeEnvFullyObserved_SA_no_momentum_deltabin': \"S-Adapt-IM\",\n",
    "                                                      'MazeEnvFullyObserved_SA_momentum_deltabin_final': 'S-Adapt',\n",
    "                                                      'MazeEnvFullyObserved_SMax_final': 'S-Max',\n",
    "                                                      'MazeEnvFullyObserved_SMin_final': 'S-Min',\n",
    "                                                      'MazeEnvFullyObserved_RandomAgent_final': 'Random'})"
   ]
  },
  {
   "cell_type": "code",
   "execution_count": null,
   "id": "32207bbe",
   "metadata": {},
   "outputs": [],
   "source": [
    "metrics_df = metrics_df.sort_values(by=\"experiment\")"
   ]
  },
  {
   "cell_type": "code",
   "execution_count": null,
   "id": "25738568",
   "metadata": {},
   "outputs": [],
   "source": [
    "sns.set(font_scale=1)\n",
    "ax = sns.lineplot(metrics_df[(metrics_df.metricName=='evaluation/env_infos/surprise Mean')], \n",
    "             y=\"values\", x=\"env_steps\", hue=\"experiment\", palette=\"magma\", lw=2)\n",
    "leg = ax.legend()\n",
    "for line in leg.get_lines():\n",
    "    line.set_linewidth(4.0)\n",
    "sns.move_legend(ax, \"lower center\", bbox_to_anchor=(.5, 1), ncol=3, title=None, frameon=False)\n",
    "ax.set(xlabel=\"Environment Steps\", ylabel='Surprise')\n",
    "plt.savefig(f\"{SAVE_DIR}/maze_surprise.png\")"
   ]
  },
  {
   "cell_type": "code",
   "execution_count": null,
   "id": "ce1dc6bb",
   "metadata": {},
   "outputs": [],
   "source": [
    "sns.set(font_scale=1)\n",
    "ax = sns.lineplot(metrics_df[(metrics_df.metricName=='evaluation/env_infos/task_reward Mean')], \n",
    "             y=\"values\", x=\"env_steps\", hue=\"experiment\", palette=\"magma\", lw=2)\n",
    "ax.set(xlabel=\"Environment Steps\", ylabel='Task Reward')\n",
    "leg = ax.legend()\n",
    "for line in leg.get_lines():\n",
    "    line.set_linewidth(4.0)\n",
    "sns.move_legend(ax, \"lower center\", bbox_to_anchor=(.5, 1), ncol=3, title=None, frameon=False)\n",
    "plt.savefig(f\"{SAVE_DIR}/maze_reward.png\")"
   ]
  },
  {
   "cell_type": "code",
   "execution_count": null,
   "id": "f80d8afb",
   "metadata": {},
   "outputs": [],
   "source": []
  }
 ],
 "metadata": {
  "kernelspec": {
   "display_name": "Python 3 (ipykernel)",
   "language": "python",
   "name": "python3"
  },
  "language_info": {
   "codemirror_mode": {
    "name": "ipython",
    "version": 3
   },
   "file_extension": ".py",
   "mimetype": "text/x-python",
   "name": "python",
   "nbconvert_exporter": "python",
   "pygments_lexer": "ipython3",
   "version": "3.7.16"
  }
 },
 "nbformat": 4,
 "nbformat_minor": 5
}
